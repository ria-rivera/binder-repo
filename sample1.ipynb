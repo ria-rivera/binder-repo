{
 "cells": [
  {
   "cell_type": "markdown",
   "metadata": {},
   "source": [
    "# Sample1: Dataset"
   ]
  },
  {
   "cell_type": "code",
   "execution_count": null,
   "metadata": {},
   "outputs": [],
   "source": [
    "# Atgenomix-Sample-Dataset-IO\n",
    "# This demo shows how to use atgenomix dataset to \n",
    "# 1. write matrix table\n",
    "# 2. read matrix table\n",
    "# 3. export vcf\n",
    "# 4. import vcf"
   ]
  },
  {
   "cell_type": "code",
   "execution_count": null,
   "metadata": {},
   "outputs": [],
   "source": [
    "from pyspark import SparkContext\n",
    "from pyspark.sql import SQLContext\n",
    "from pyspark.sql.functions import struct\n",
    "from pyspark.sql.types import *\n",
    "import hail as hl\n",
    "import datetime\n",
    "import time\n",
    "\n",
    "sc = SparkContext.getOrCreate()\n",
    "sc.setLogLevel(\"ERROR\")\n",
    "hl.init(sc)"
   ]
  },
  {
   "cell_type": "code",
   "execution_count": null,
   "metadata": {},
   "outputs": [],
   "source": [
    "# Use hail.atgenomix.load_sample_vcf() to get a sample VCF file\n",
    "# Load VCF, use import_vcf(sample, hail default arguments)\n",
    "# Load Matrix Table, use read_matrix_table(sample, hail default arguments)\n",
    "\n",
    "vcf = hl.atgenomix.load_sample_vcf()\n",
    "vcf.count()"
   ]
  },
  {
   "cell_type": "code",
   "execution_count": null,
   "metadata": {},
   "outputs": [],
   "source": [
    "# Use hail.atgenomix.write_matrix_table to save your mt to atgenomix dataset platform \n",
    "# hl.atgenomix.write_matrix_table(mt, filename)\n",
    "# @param mt is MatrixTable Class\n",
    "# @param \"desired filename\" should endswith .mt\n",
    "\n",
    "hl.atgenomix.write_matrix_table(vcf, \"atgx-sample-dataset-io-write-mt.mt\")"
   ]
  }
 ],
 "metadata": {
  "kernelspec": {
   "display_name": "Python 3",
   "language": "python",
   "name": "python3"
  },
  "language_info": {
   "codemirror_mode": {
    "name": "ipython",
    "version": 3
   },
   "file_extension": ".py",
   "mimetype": "text/x-python",
   "name": "python",
   "nbconvert_exporter": "python",
   "pygments_lexer": "ipython3",
   "version": "3.8.5"
  }
 },
 "nbformat": 4,
 "nbformat_minor": 4
}
